{
  "nbformat": 4,
  "nbformat_minor": 0,
  "metadata": {
    "colab": {
      "provenance": [],
      "authorship_tag": "ABX9TyNiH/V54cyeBDoULzNPcv9Q",
      "include_colab_link": true
    },
    "kernelspec": {
      "name": "python3",
      "display_name": "Python 3"
    },
    "language_info": {
      "name": "python"
    }
  },
  "cells": [
    {
      "cell_type": "markdown",
      "metadata": {
        "id": "view-in-github",
        "colab_type": "text"
      },
      "source": [
        "<a href=\"https://colab.research.google.com/github/kec210/BTE320/blob/main/In_Class_Assignments.ipynb\" target=\"_parent\"><img src=\"https://colab.research.google.com/assets/colab-badge.svg\" alt=\"Open In Colab\"/></a>"
      ]
    },
    {
      "cell_type": "code",
      "execution_count": null,
      "metadata": {
        "colab": {
          "base_uri": "https://localhost:8080/"
        },
        "id": "B2MSYo4MZ9vs",
        "outputId": "e9d64376-7685-4b54-a9d2-8842332d4b76"
      },
      "outputs": [
        {
          "output_type": "stream",
          "name": "stdout",
          "text": [
            "radius:2\n",
            "height:4\n",
            "area: 75.36 sq.ft\n"
          ]
        }
      ],
      "source": [
        "pi = 3.14\n",
        "radius = int(input(\"radius:\"))\n",
        "height = int(input(\"height:\"))\n",
        "\n",
        "area = (2 * pi * radius ** 2) + (2 * pi * radius * height)\n",
        "print(\"area:\",area, \"sq.ft\")\n"
      ]
    },
    {
      "cell_type": "code",
      "source": [
        "pi = 3.14\n",
        "radius = float(input('Please provide radius:'))\n",
        "height = float(input('Please provide height of cylinder:'))\n",
        "\n",
        "area = (2 * pi * radius ** 2) + (2 * pi * radius * height)\n",
        "print(f'Area of cylinder = {area} sq. ft')"
      ],
      "metadata": {
        "colab": {
          "base_uri": "https://localhost:8080/"
        },
        "id": "d86SbNh9cih_",
        "outputId": "2e053486-630c-4c7a-a6a6-b321664483ed"
      },
      "execution_count": null,
      "outputs": [
        {
          "output_type": "stream",
          "name": "stdout",
          "text": [
            "Please provide radius:5\n",
            "Please provide height of cylinder:10\n",
            "Area of cylinder = 471.0 sq. ft\n"
          ]
        }
      ]
    },
    {
      "cell_type": "code",
      "source": [
        "x = 2\n",
        "y = 3\n",
        "\n",
        "if x < 3:\n",
        "  print(\"x less than y\")"
      ],
      "metadata": {
        "colab": {
          "base_uri": "https://localhost:8080/"
        },
        "id": "WcXQYMKfetO_",
        "outputId": "a1d6573d-f601-4f5b-bb9f-34335e4da7d0"
      },
      "execution_count": null,
      "outputs": [
        {
          "output_type": "stream",
          "name": "stdout",
          "text": [
            "x less than y\n"
          ]
        }
      ]
    }
  ]
}
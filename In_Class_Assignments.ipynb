{
  "nbformat": 4,
  "nbformat_minor": 0,
  "metadata": {
    "colab": {
      "provenance": [],
      "authorship_tag": "ABX9TyNSKgihMQPSqpugxlN/Vf2t",
      "include_colab_link": true
    },
    "kernelspec": {
      "name": "python3",
      "display_name": "Python 3"
    },
    "language_info": {
      "name": "python"
    }
  },
  "cells": [
    {
      "cell_type": "markdown",
      "metadata": {
        "id": "view-in-github",
        "colab_type": "text"
      },
      "source": [
        "<a href=\"https://colab.research.google.com/github/kec210/BTE320/blob/main/In_Class_Assignments.ipynb\" target=\"_parent\"><img src=\"https://colab.research.google.com/assets/colab-badge.svg\" alt=\"Open In Colab\"/></a>"
      ]
    },
    {
      "cell_type": "code",
      "execution_count": null,
      "metadata": {
        "colab": {
          "base_uri": "https://localhost:8080/"
        },
        "id": "B2MSYo4MZ9vs",
        "outputId": "e9d64376-7685-4b54-a9d2-8842332d4b76"
      },
      "outputs": [
        {
          "output_type": "stream",
          "name": "stdout",
          "text": [
            "radius:2\n",
            "height:4\n",
            "area: 75.36 sq.ft\n"
          ]
        }
      ],
      "source": [
        "pi = 3.14\n",
        "radius = int(input(\"radius:\"))\n",
        "height = int(input(\"height:\"))\n",
        "\n",
        "area = (2 * pi * radius ** 2) + (2 * pi * radius * height)\n",
        "print(\"area:\",area, \"sq.ft\")\n"
      ]
    },
    {
      "cell_type": "code",
      "source": [
        "pi = 3.14\n",
        "radius = float(input('Please provide radius:'))\n",
        "height = float(input('Please provide height of cylinder:'))\n",
        "\n",
        "area = (2 * pi * radius ** 2) + (2 * pi * radius * height)\n",
        "print(f'Area of cylinder = {area} sq. ft')"
      ],
      "metadata": {
        "colab": {
          "base_uri": "https://localhost:8080/"
        },
        "id": "d86SbNh9cih_",
        "outputId": "2e053486-630c-4c7a-a6a6-b321664483ed"
      },
      "execution_count": null,
      "outputs": [
        {
          "output_type": "stream",
          "name": "stdout",
          "text": [
            "Please provide radius:5\n",
            "Please provide height of cylinder:10\n",
            "Area of cylinder = 471.0 sq. ft\n"
          ]
        }
      ]
    },
    {
      "cell_type": "code",
      "source": [
        "x = 2\n",
        "y = 3\n",
        "\n",
        "if x < 3:\n",
        "  print(\"x less than y\")"
      ],
      "metadata": {
        "colab": {
          "base_uri": "https://localhost:8080/"
        },
        "id": "WcXQYMKfetO_",
        "outputId": "a1d6573d-f601-4f5b-bb9f-34335e4da7d0"
      },
      "execution_count": null,
      "outputs": [
        {
          "output_type": "stream",
          "name": "stdout",
          "text": [
            "x less than y\n"
          ]
        }
      ]
    },
    {
      "cell_type": "code",
      "source": [
        "number1 = float (input('Please put 1st number:'))\n",
        "sign = input (\"Please provide Sign: \")\n",
        "number2 = float (input('Please put 2nd number:'))\n",
        "\n",
        "if sign == '+':\n",
        "  print(number1 + number2)\n",
        "elif sign == '-':\n",
        "  print(number1 - number2)\n",
        "elif sign == '*':\n",
        "  print(number1 * number2)\n",
        "elif sign == '/':\n",
        "  print(number1 / number2)\n",
        "elif sign == '//':\n",
        "  print(number1 // number2)\n",
        "elif sign == '**':\n",
        "  print(number1 ** number2)\n",
        "elif sign == '%':\n",
        "  print(number1 % number2)\n",
        "else:\n",
        "  print('Invalid Operator')"
      ],
      "metadata": {
        "colab": {
          "base_uri": "https://localhost:8080/"
        },
        "id": "Hq3IA5yIcEGu",
        "outputId": "82484f63-e584-4d49-ed41-ce4a73559a4a"
      },
      "execution_count": null,
      "outputs": [
        {
          "output_type": "stream",
          "name": "stdout",
          "text": [
            "Please put 1st number:9\n",
            "Please provide Sign: %\n",
            "Please put 2nd number:2\n",
            "1.0\n"
          ]
        }
      ]
    },
    {
      "cell_type": "code",
      "source": [
        "n1 = float(input('Please put 1st number:'))\n",
        "n2 = float(input('Please put 2nd number:'))\n",
        "s = input('Please provide Sign (+, -, *, /, //, **, %):')\n",
        "\n",
        "if s == '+':\n",
        "  print(f'{n1} + {n2} = {n1 + n2}')\n",
        "elif s == '-':\n",
        "  print(f'{n1} - {n2} = {n1 - n2}')\n",
        "elif s == '*':\n",
        "  print(f'{n1} * {n2} = {n1 * n2}')\n",
        "elif s == '/':\n",
        "  print(f'{n1} / {n2} = {n1 / n2}')\n",
        "elif s == '//':\n",
        "  print(f'{n1} // {n2} = {n1 // n2}')\n",
        "elif s == '**':\n",
        "  print(f'{n1} ** {n2} = {n1 ** n2}')\n",
        "elif s == '%':\n",
        "  print(f'{n1} % {n2} = {n1 % n2}')\n",
        "else:\n",
        "  print('Invalid Operator')"
      ],
      "metadata": {
        "colab": {
          "base_uri": "https://localhost:8080/"
        },
        "id": "JdBp3WXyegir",
        "outputId": "5ddd685b-bd97-45d7-8849-fb0553267beb"
      },
      "execution_count": null,
      "outputs": [
        {
          "output_type": "stream",
          "name": "stdout",
          "text": [
            "Please put 1st number:9\n",
            "Please put 2nd number:3\n",
            "Please provide Sign (+, -, *, /, //, **, %):+\n",
            "9.0 + 3.0 = 12.0\n"
          ]
        }
      ]
    },
    {
      "cell_type": "code",
      "source": [
        "for numberhours in range(1, 9):\n",
        "  fee = 5 + (2.5 * numberhours)\n",
        "  if fee < 10:\n",
        "    fee = 10.0\n",
        "  elif fee > 20:\n",
        "    fee = 20.0\n",
        "  print(numberhours, fee)"
      ],
      "metadata": {
        "colab": {
          "base_uri": "https://localhost:8080/"
        },
        "id": "AQKXU7RcJXnL",
        "outputId": "d39c5d78-348b-4454-8a55-5898a52165fd"
      },
      "execution_count": null,
      "outputs": [
        {
          "output_type": "stream",
          "name": "stdout",
          "text": [
            "1 10.0\n",
            "2 10.0\n",
            "3 12.5\n",
            "4 15.0\n",
            "5 17.5\n",
            "6 20.0\n",
            "7 20.0\n",
            "8 20.0\n"
          ]
        }
      ]
    },
    {
      "cell_type": "code",
      "source": [
        "import math\n",
        "\n",
        "print ('ad$\\t', 'profit')\n",
        "for admoney in range(0, 201, 25):\n",
        "  additional = 2 * round(math.sqrt(admoney)) #instead of adcost **0.5\n",
        "  profit = (20 + additional) * 10 - 200 - admoney\n",
        "  print(admoney, '\\t', profit)"
      ],
      "metadata": {
        "colab": {
          "base_uri": "https://localhost:8080/"
        },
        "id": "HAR8D0oeN6Do",
        "outputId": "9b8d0cd3-8224-4d47-fe8f-d683841b2391"
      },
      "execution_count": null,
      "outputs": [
        {
          "output_type": "stream",
          "name": "stdout",
          "text": [
            "ad$\t profit\n",
            "0 \t 0\n",
            "25 \t 75\n",
            "50 \t 90\n",
            "75 \t 105\n",
            "100 \t 100\n",
            "125 \t 95\n",
            "150 \t 90\n",
            "175 \t 85\n",
            "200 \t 80\n"
          ]
        }
      ]
    },
    {
      "cell_type": "code",
      "source": [
        "play = input(\"Do you want to play? (Yes/No)\").capitalize()\n",
        "\n",
        "\n",
        "while play == 'Yes':\n",
        "  Player1 = input(\"Player 1 - Choose between Rock, Paper, Scissors\")\n",
        "  Player2 = input(\"Player 2 - Choose between Rock, Paper, Scissors\")\n",
        "\n",
        "  if Player1 == Player2:\n",
        "    print(\"It's a tie!\")\n",
        "  elif Player1 == 'Rock' and Player2 == 'Scissors':\n",
        "    print(\"Player 1 wins!\")\n",
        "    play = input(\"Do you want to play again? (Yes/No)\")\n",
        "  elif Player1 == 'Paper' and Player2 == 'Rock':\n",
        "    print(\"Player 1 wins!\")\n",
        "    play = input(\"Do you want to play again? (Yes/No)\")\n",
        "  elif Player1 == 'Scissors' and Player2 == 'Paper':\n",
        "    print(\"Player 1 wins!\")\n",
        "    play = input(\"Do you want to play again? (Yes/No)\")\n",
        "  else:\n",
        "    print(\"Player 2 wins!\")\n",
        "\n",
        "  play = input(\"Do you want to play a new game? (Yes/No)\")\n",
        "\n",
        "print(\"Good day!\")"
      ],
      "metadata": {
        "id": "PujhvJNER9b8",
        "colab": {
          "base_uri": "https://localhost:8080/"
        },
        "outputId": "a64320eb-ecf9-4c3f-a460-af1ddd042a52"
      },
      "execution_count": null,
      "outputs": [
        {
          "output_type": "stream",
          "name": "stdout",
          "text": [
            "Do you want to play? (Yes/No)yes\n",
            "Player 1 - Choose between Rock, Paper, Scissorsrock\n",
            "Player 2 - Choose between Rock, Paper, Scissorspaper\n",
            "Player 2 wins!\n",
            "Do you want to play a new game? (Yes/No)no\n",
            "Good day!\n"
          ]
        }
      ]
    },
    {
      "cell_type": "code",
      "source": [],
      "metadata": {
        "id": "3n8B0RHlCig0"
      },
      "execution_count": null,
      "outputs": []
    },
    {
      "cell_type": "code",
      "source": [
        "months = {} # Best approach\n",
        "\n",
        "names = [\"Jan\", \"Feb\", \"Mar\", \"Apr\", \"May\", \"Jun\", \"Jul\", \"Aug\", \"Sep\", \"Oct\", \"Nov\", \"Dec\"]\n",
        "numbers = [1,2,3,4,5,6,7,8,9,10,11,12]\n",
        "\n",
        "for idx in range(len(numbers)):\n",
        "  months[numbers[idx]] = names[idx]\n",
        "months"
      ],
      "metadata": {
        "colab": {
          "base_uri": "https://localhost:8080/"
        },
        "id": "OH0xX4fZjOqa",
        "outputId": "7b428939-c283-491f-d411-8bfe37fd9dfa"
      },
      "execution_count": null,
      "outputs": [
        {
          "output_type": "execute_result",
          "data": {
            "text/plain": [
              "{1: 'Jan',\n",
              " 2: 'Feb',\n",
              " 3: 'Mar',\n",
              " 4: 'Apr',\n",
              " 5: 'May',\n",
              " 6: 'Jun',\n",
              " 7: 'Jul',\n",
              " 8: 'Aug',\n",
              " 9: 'Sep',\n",
              " 10: 'Oct',\n",
              " 11: 'Nov',\n",
              " 12: 'Dec'}"
            ]
          },
          "metadata": {},
          "execution_count": 11
        }
      ]
    },
    {
      "cell_type": "code",
      "source": [
        "months = {}\n",
        "\n",
        "names = [\"Jan\", \"Feb\", \"Mar\", \"Apr\", \"May\", \"Jun\", \"Jul\", \"Aug\", \"Sep\", \"Oct\", \"Nov\", \"Dec\"]\n",
        "numbers = [1,2,3,4,5,6,7,8,9,10,11,12]\n",
        "\n",
        "cntr = 0\n",
        "for num in numbers:\n",
        "  months[num] = names[cntr]\n",
        "  cntr += 1\n",
        "months"
      ],
      "metadata": {
        "colab": {
          "base_uri": "https://localhost:8080/"
        },
        "id": "EG-abBHhmgnk",
        "outputId": "34b5a3e8-e011-4f52-e362-9ff5897ee6d5"
      },
      "execution_count": null,
      "outputs": [
        {
          "output_type": "execute_result",
          "data": {
            "text/plain": [
              "{1: 'Jan',\n",
              " 2: 'Feb',\n",
              " 3: 'Mar',\n",
              " 4: 'Apr',\n",
              " 5: 'May',\n",
              " 6: 'Jun',\n",
              " 7: 'Jul',\n",
              " 8: 'Aug',\n",
              " 9: 'Sep',\n",
              " 10: 'Oct',\n",
              " 11: 'Nov',\n",
              " 12: 'Dec'}"
            ]
          },
          "metadata": {},
          "execution_count": 12
        }
      ]
    },
    {
      "cell_type": "code",
      "source": [
        "months = {}\n",
        "\n",
        "names = [\"Jan\", \"Feb\", \"Mar\", \"Apr\", \"May\", \"Jun\", \"Jul\", \"Aug\", \"Sep\", \"Oct\", \"Nov\", \"Dec\"]\n",
        "numbers = [1,2,3,4,5,6,7,8,9,10,11,12]\n",
        "\n",
        "for num in numbers:\n",
        "  months[num] = names[num - 1]\n",
        "months"
      ],
      "metadata": {
        "colab": {
          "base_uri": "https://localhost:8080/"
        },
        "id": "j9zrGNqlm9Th",
        "outputId": "6f217318-00ef-4552-95f9-4dac428ef5d7"
      },
      "execution_count": null,
      "outputs": [
        {
          "output_type": "execute_result",
          "data": {
            "text/plain": [
              "{1: 'Jan',\n",
              " 2: 'Feb',\n",
              " 3: 'Mar',\n",
              " 4: 'Apr',\n",
              " 5: 'May',\n",
              " 6: 'Jun',\n",
              " 7: 'Jul',\n",
              " 8: 'Aug',\n",
              " 9: 'Sep',\n",
              " 10: 'Oct',\n",
              " 11: 'Nov',\n",
              " 12: 'Dec'}"
            ]
          },
          "metadata": {},
          "execution_count": 13
        }
      ]
    },
    {
      "cell_type": "code",
      "source": [
        "counts = {}\n",
        "\n",
        "while len(counts) < 5:\n",
        "  key = input('Give a string: ')\n",
        "\n",
        "  if key not in counts:\n",
        "    counts[key] = 1\n",
        "  else:\n",
        "    counts[key] = counts[key] + 1\n",
        "counts"
      ],
      "metadata": {
        "colab": {
          "base_uri": "https://localhost:8080/"
        },
        "id": "dFMbjXRYnjU2",
        "outputId": "a7fef79c-5c92-4556-9e49-3b4d931607e4"
      },
      "execution_count": null,
      "outputs": [
        {
          "name": "stdout",
          "output_type": "stream",
          "text": [
            "Give a string: a\n",
            "Give a string: b\n",
            "Give a string: c\n",
            "Give a string: d\n",
            "Give a string: a\n",
            "Give a string: a\n",
            "Give a string: e\n"
          ]
        },
        {
          "output_type": "execute_result",
          "data": {
            "text/plain": [
              "{'a': 3, 'b': 1, 'c': 1, 'd': 1, 'e': 1}"
            ]
          },
          "metadata": {},
          "execution_count": 21
        }
      ]
    },
    {
      "cell_type": "code",
      "source": [
        "counts = {}\n",
        "\n",
        "while len(counts) < 5:\n",
        "  key = input('Give a string: ')\n",
        "\n",
        "  if key not in counts:\n",
        "    counts[key] = 1\n",
        "  else:\n",
        "    counts[key] += 1\n",
        "counts"
      ],
      "metadata": {
        "colab": {
          "base_uri": "https://localhost:8080/"
        },
        "id": "Xl_d-N9YsM-i",
        "outputId": "98dbbbe3-6b28-4a69-b3f8-3de24c51d3b9"
      },
      "execution_count": null,
      "outputs": [
        {
          "name": "stdout",
          "output_type": "stream",
          "text": [
            "Give a string: a\n",
            "Give a string: b\n",
            "Give a string: c\n",
            "Give a string: d\n",
            "Give a string: e\n"
          ]
        },
        {
          "output_type": "execute_result",
          "data": {
            "text/plain": [
              "{'a': 1, 'b': 1, 'c': 1, 'd': 1, 'e': 1}"
            ]
          },
          "metadata": {},
          "execution_count": 20
        }
      ]
    },
    {
      "cell_type": "code",
      "source": [
        "def calcFee(hours):\n",
        "  fee = 5 + 2.5 * hours\n",
        "  if fee < 10:\n",
        "    fee = 10.0\n",
        "  elif fee > 20:\n",
        "    fee = 20.0\n",
        "  print(f'Fee: {fee}$')\n",
        "\n",
        "def main():\n",
        "  try:\n",
        "    numHours = int(input('Enter number of hours: '))\n",
        "    calcFee(numHours)\n",
        "  except ValueError:\n",
        "    print('Cannot cast to int().')\n",
        "  except:\n",
        "      print('Unknown error...')\n",
        "\n",
        "if __name__ == \"__main__\":\n",
        "  main()"
      ],
      "metadata": {
        "colab": {
          "base_uri": "https://localhost:8080/"
        },
        "id": "58rtuzU8DWJW",
        "outputId": "63b1c32a-fee2-4355-905c-ab7ad4c6284e"
      },
      "execution_count": null,
      "outputs": [
        {
          "output_type": "stream",
          "name": "stdout",
          "text": [
            "Unknown error...\n"
          ]
        }
      ]
    },
    {
      "cell_type": "code",
      "source": [
        "def getValues(n):\n",
        "  L = []\n",
        "  for i in range(n):\n",
        "    weight = float(input('Enter weight: '))\n",
        "    L.append(weight)\n",
        "  return L\n",
        "\n",
        "def calcAverage(alist):\n",
        "  try:\n",
        "    print(f'The average weight is {sum(alist[2:]) / len(alist[2:])}')\n",
        "  except ZeroDivisionError:\n",
        "    print(f'List {alist} is empty!')\n",
        "  except:\n",
        "    print('Unknown error...')\n",
        "\n",
        "if __name__ == \"__main__\":\n",
        "  n = int(input('Enter size of list: '))\n",
        "  alist = getValues(n)\n",
        "  calcAverage(alist)"
      ],
      "metadata": {
        "colab": {
          "base_uri": "https://localhost:8080/"
        },
        "id": "dt7aVMfXEEOk",
        "outputId": "59bc13ab-73f4-4be2-d513-45ef743d3620"
      },
      "execution_count": null,
      "outputs": [
        {
          "output_type": "stream",
          "name": "stdout",
          "text": [
            "Enter size of list: 0\n",
            "List [] is empty!\n"
          ]
        }
      ]
    },
    {
      "cell_type": "code",
      "source": [
        "class Greeting:\n",
        "  def __init__(self, first, last):\n",
        "    self.first = first\n",
        "    self.last = last\n",
        "  def display(self, formal=False):\n",
        "    if formal:\n",
        "      print(f'Hi {self.first} {self.last}')\n",
        "    else:\n",
        "      print(f'Hi {self.last}, {self.first}')\n",
        "\n",
        "  def __str__(self):\n",
        "   return f'{self.first}, {self.last}'\n",
        "\n",
        "greeting = Greeting('Donald', 'Becker')\n",
        "greeting2 = Greeting('Bob', 'Dylan')\n",
        "greeting.display(formal=True)\n",
        "print(greeting)\n",
        "print(greeting2)"
      ],
      "metadata": {
        "colab": {
          "base_uri": "https://localhost:8080/"
        },
        "id": "pMdp9D67XPqB",
        "outputId": "5044dcb3-bfd3-4d21-857d-cc82176ab70e"
      },
      "execution_count": null,
      "outputs": [
        {
          "output_type": "stream",
          "name": "stdout",
          "text": [
            "Hi Donald Becker\n",
            "Donald, Becker\n",
            "Bob, Dylan\n"
          ]
        }
      ]
    },
    {
      "cell_type": "code",
      "source": [
        "class Coordinate:\n",
        "  def __init__ (self, x, y):\n",
        "    self.x = x\n",
        "    self.y = y\n",
        "\n",
        "  def distance(self, other):\n",
        "    dx = (self.x - other.x) ** 2\n",
        "    dy = (self.y - other.y) ** 2\n",
        "    print(f'The distance is: {(dx + dy) ** 0.5 }')\n",
        "\n",
        "p1 = Coordinate(3, 4)\n",
        "p2 = Coordinate(5, 6)\n",
        "p1.distance(p2)"
      ],
      "metadata": {
        "colab": {
          "base_uri": "https://localhost:8080/"
        },
        "id": "ck1WwWRjePUm",
        "outputId": "9377011f-0e9e-46b0-fb68-7ac8d44de543"
      },
      "execution_count": null,
      "outputs": [
        {
          "output_type": "stream",
          "name": "stdout",
          "text": [
            "The distance is: 2.8284271247461903\n"
          ]
        }
      ]
    },
    {
      "cell_type": "code",
      "source": [
        "import math\n",
        "\n",
        "class Point:\n",
        "  def __init__(self, x, y):\n",
        "    self.x = x\n",
        "    self.y = y\n",
        "\n",
        "  def distance(self, other):\n",
        "    return math.sqrt((self.x - other.x) ** 2 + (self.y - other.y) ** 2)"
      ],
      "metadata": {
        "id": "LRvAxoRof2N1"
      },
      "execution_count": 17,
      "outputs": []
    },
    {
      "cell_type": "code",
      "source": [
        "class Rectangle:\n",
        "  def __init__(self):\n",
        "    self.c1 = Point(0, 0)\n",
        "    self.c2 = Point(0, 2)\n",
        "    self.c3 = Point(2, 0)\n",
        "    self.c4 = Point(2, 2)\n",
        "    self.width = self.calculate_width()\n",
        "    self.height = self.calculate_height()\n",
        "\n",
        "  def calculate_width(self):\n",
        "    return self.c1.distance(self.c2)\n",
        "\n",
        "  def calculate_height(self):\n",
        "    return self.c3.distance(self.c4)\n",
        "\n",
        "  def area(self):\n",
        "    return self.width * self.height\n",
        "\n",
        "square = Rectangle()\n",
        "square.area()"
      ],
      "metadata": {
        "colab": {
          "base_uri": "https://localhost:8080/"
        },
        "id": "gv0Yt1pVdHG8",
        "outputId": "6e5d205e-9c1d-4466-9c55-3eaffd88a0fb"
      },
      "execution_count": 19,
      "outputs": [
        {
          "output_type": "execute_result",
          "data": {
            "text/plain": [
              "4.0"
            ]
          },
          "metadata": {},
          "execution_count": 19
        }
      ]
    },
    {
      "cell_type": "code",
      "source": [
        "class Car:\n",
        "  def __init__(self, make, year):\n",
        "    self.make = make\n",
        "    self.year = year\n",
        "\n",
        "  def get_make(self):\n",
        "    return self.make\n",
        "\n",
        "  def set_make(self, newMake):\n",
        "    self.make = newMake\n",
        "\n",
        "#Child class (subclass)\n",
        "class SUV(Car):\n",
        "  def activateAWD(self):\n",
        "    print('AWD activated')\n",
        "\n",
        "c = Car('Ford', 2024)\n",
        "s = SUV('GMC', 2011)"
      ],
      "metadata": {
        "id": "ydCEcLhzjUbK"
      },
      "execution_count": 20,
      "outputs": []
    },
    {
      "cell_type": "code",
      "source": [
        "c.get_make()"
      ],
      "metadata": {
        "colab": {
          "base_uri": "https://localhost:8080/",
          "height": 35
        },
        "id": "Ew7yQ3nGkbGC",
        "outputId": "10512784-caf4-4df0-9ca6-d00a51f4f6de"
      },
      "execution_count": 21,
      "outputs": [
        {
          "output_type": "execute_result",
          "data": {
            "text/plain": [
              "'Ford'"
            ],
            "application/vnd.google.colaboratory.intrinsic+json": {
              "type": "string"
            }
          },
          "metadata": {},
          "execution_count": 21
        }
      ]
    },
    {
      "cell_type": "code",
      "source": [
        "s.get_make()"
      ],
      "metadata": {
        "colab": {
          "base_uri": "https://localhost:8080/",
          "height": 35
        },
        "id": "nBPqhSfpkgsl",
        "outputId": "6590f0b3-27ed-484d-bef0-05d01f268343"
      },
      "execution_count": 23,
      "outputs": [
        {
          "output_type": "execute_result",
          "data": {
            "text/plain": [
              "'GMC'"
            ],
            "application/vnd.google.colaboratory.intrinsic+json": {
              "type": "string"
            }
          },
          "metadata": {},
          "execution_count": 23
        }
      ]
    },
    {
      "cell_type": "code",
      "source": [
        "s.activateAWD()"
      ],
      "metadata": {
        "colab": {
          "base_uri": "https://localhost:8080/"
        },
        "id": "448USXrskj0E",
        "outputId": "950cdd38-ed79-40cc-e684-d14bb8683915"
      },
      "execution_count": 24,
      "outputs": [
        {
          "output_type": "stream",
          "name": "stdout",
          "text": [
            "AWD activated\n"
          ]
        }
      ]
    },
    {
      "cell_type": "code",
      "source": [
        "c.activateAWD()"
      ],
      "metadata": {
        "colab": {
          "base_uri": "https://localhost:8080/",
          "height": 141
        },
        "id": "C6XgmhkkkpFT",
        "outputId": "86b48f73-6132-4255-ce5e-ad3ef912f8e8"
      },
      "execution_count": 25,
      "outputs": [
        {
          "output_type": "error",
          "ename": "AttributeError",
          "evalue": "'Car' object has no attribute 'activateAWD'",
          "traceback": [
            "\u001b[0;31m---------------------------------------------------------------------------\u001b[0m",
            "\u001b[0;31mAttributeError\u001b[0m                            Traceback (most recent call last)",
            "\u001b[0;32m<ipython-input-25-67e4655da30e>\u001b[0m in \u001b[0;36m<cell line: 0>\u001b[0;34m()\u001b[0m\n\u001b[0;32m----> 1\u001b[0;31m \u001b[0mc\u001b[0m\u001b[0;34m.\u001b[0m\u001b[0mactivateAWD\u001b[0m\u001b[0;34m(\u001b[0m\u001b[0;34m)\u001b[0m\u001b[0;34m\u001b[0m\u001b[0;34m\u001b[0m\u001b[0m\n\u001b[0m",
            "\u001b[0;31mAttributeError\u001b[0m: 'Car' object has no attribute 'activateAWD'"
          ]
        }
      ]
    }
  ]
}
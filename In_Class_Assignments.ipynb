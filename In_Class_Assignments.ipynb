{
  "nbformat": 4,
  "nbformat_minor": 0,
  "metadata": {
    "colab": {
      "provenance": [],
      "authorship_tag": "ABX9TyNPl5AW6rsINVRMUPNKtOIL",
      "include_colab_link": true
    },
    "kernelspec": {
      "name": "python3",
      "display_name": "Python 3"
    },
    "language_info": {
      "name": "python"
    }
  },
  "cells": [
    {
      "cell_type": "markdown",
      "metadata": {
        "id": "view-in-github",
        "colab_type": "text"
      },
      "source": [
        "<a href=\"https://colab.research.google.com/github/kec210/BTE320/blob/main/In_Class_Assignments.ipynb\" target=\"_parent\"><img src=\"https://colab.research.google.com/assets/colab-badge.svg\" alt=\"Open In Colab\"/></a>"
      ]
    },
    {
      "cell_type": "code",
      "execution_count": null,
      "metadata": {
        "colab": {
          "base_uri": "https://localhost:8080/"
        },
        "id": "B2MSYo4MZ9vs",
        "outputId": "e9d64376-7685-4b54-a9d2-8842332d4b76"
      },
      "outputs": [
        {
          "output_type": "stream",
          "name": "stdout",
          "text": [
            "radius:2\n",
            "height:4\n",
            "area: 75.36 sq.ft\n"
          ]
        }
      ],
      "source": [
        "pi = 3.14\n",
        "radius = int(input(\"radius:\"))\n",
        "height = int(input(\"height:\"))\n",
        "\n",
        "area = (2 * pi * radius ** 2) + (2 * pi * radius * height)\n",
        "print(\"area:\",area, \"sq.ft\")\n"
      ]
    },
    {
      "cell_type": "code",
      "source": [
        "pi = 3.14\n",
        "radius = float(input('Please provide radius:'))\n",
        "height = float(input('Please provide height of cylinder:'))\n",
        "\n",
        "area = (2 * pi * radius ** 2) + (2 * pi * radius * height)\n",
        "print(f'Area of cylinder = {area} sq. ft')"
      ],
      "metadata": {
        "colab": {
          "base_uri": "https://localhost:8080/"
        },
        "id": "d86SbNh9cih_",
        "outputId": "2e053486-630c-4c7a-a6a6-b321664483ed"
      },
      "execution_count": null,
      "outputs": [
        {
          "output_type": "stream",
          "name": "stdout",
          "text": [
            "Please provide radius:5\n",
            "Please provide height of cylinder:10\n",
            "Area of cylinder = 471.0 sq. ft\n"
          ]
        }
      ]
    },
    {
      "cell_type": "code",
      "source": [
        "x = 2\n",
        "y = 3\n",
        "\n",
        "if x < 3:\n",
        "  print(\"x less than y\")"
      ],
      "metadata": {
        "colab": {
          "base_uri": "https://localhost:8080/"
        },
        "id": "WcXQYMKfetO_",
        "outputId": "a1d6573d-f601-4f5b-bb9f-34335e4da7d0"
      },
      "execution_count": null,
      "outputs": [
        {
          "output_type": "stream",
          "name": "stdout",
          "text": [
            "x less than y\n"
          ]
        }
      ]
    },
    {
      "cell_type": "code",
      "source": [
        "number1 = float (input('Please put 1st number:'))\n",
        "sign = input (\"Please provide Sign: \")\n",
        "number2 = float (input('Please put 2nd number:'))\n",
        "\n",
        "if sign == '+':\n",
        "  print(number1 + number2)\n",
        "elif sign == '-':\n",
        "  print(number1 - number2)\n",
        "elif sign == '*':\n",
        "  print(number1 * number2)\n",
        "elif sign == '/':\n",
        "  print(number1 / number2)\n",
        "elif sign == '//':\n",
        "  print(number1 // number2)\n",
        "elif sign == '**':\n",
        "  print(number1 ** number2)\n",
        "elif sign == '%':\n",
        "  print(number1 % number2)\n",
        "else:\n",
        "  print('Invalid Operator')"
      ],
      "metadata": {
        "colab": {
          "base_uri": "https://localhost:8080/"
        },
        "id": "Hq3IA5yIcEGu",
        "outputId": "82484f63-e584-4d49-ed41-ce4a73559a4a"
      },
      "execution_count": null,
      "outputs": [
        {
          "output_type": "stream",
          "name": "stdout",
          "text": [
            "Please put 1st number:9\n",
            "Please provide Sign: %\n",
            "Please put 2nd number:2\n",
            "1.0\n"
          ]
        }
      ]
    },
    {
      "cell_type": "code",
      "source": [
        "n1 = float(input('Please put 1st number:'))\n",
        "n2 = float(input('Please put 2nd number:'))\n",
        "s = input('Please provide Sign (+, -, *, /, //, **, %):')\n",
        "\n",
        "if s == '+':\n",
        "  print(f'{n1} + {n2} = {n1 + n2}')\n",
        "elif s == '-':\n",
        "  print(f'{n1} - {n2} = {n1 - n2}')\n",
        "elif s == '*':\n",
        "  print(f'{n1} * {n2} = {n1 * n2}')\n",
        "elif s == '/':\n",
        "  print(f'{n1} / {n2} = {n1 / n2}')\n",
        "elif s == '//':\n",
        "  print(f'{n1} // {n2} = {n1 // n2}')\n",
        "elif s == '**':\n",
        "  print(f'{n1} ** {n2} = {n1 ** n2}')\n",
        "elif s == '%':\n",
        "  print(f'{n1} % {n2} = {n1 % n2}')\n",
        "else:\n",
        "  print('Invalid Operator')"
      ],
      "metadata": {
        "colab": {
          "base_uri": "https://localhost:8080/"
        },
        "id": "JdBp3WXyegir",
        "outputId": "5ddd685b-bd97-45d7-8849-fb0553267beb"
      },
      "execution_count": null,
      "outputs": [
        {
          "output_type": "stream",
          "name": "stdout",
          "text": [
            "Please put 1st number:9\n",
            "Please put 2nd number:3\n",
            "Please provide Sign (+, -, *, /, //, **, %):+\n",
            "9.0 + 3.0 = 12.0\n"
          ]
        }
      ]
    },
    {
      "cell_type": "code",
      "source": [
        "for numberhours in range(1, 9):\n",
        "  fee = 5 + (2.5 * numberhours)\n",
        "  if fee < 10:\n",
        "    fee = 10.0\n",
        "  elif fee > 20:\n",
        "    fee = 20.0\n",
        "  print(numberhours, fee)"
      ],
      "metadata": {
        "colab": {
          "base_uri": "https://localhost:8080/"
        },
        "id": "AQKXU7RcJXnL",
        "outputId": "d39c5d78-348b-4454-8a55-5898a52165fd"
      },
      "execution_count": null,
      "outputs": [
        {
          "output_type": "stream",
          "name": "stdout",
          "text": [
            "1 10.0\n",
            "2 10.0\n",
            "3 12.5\n",
            "4 15.0\n",
            "5 17.5\n",
            "6 20.0\n",
            "7 20.0\n",
            "8 20.0\n"
          ]
        }
      ]
    },
    {
      "cell_type": "code",
      "source": [
        "import math\n",
        "\n",
        "print ('ad$\\t', 'profit')\n",
        "for admoney in range(0, 201, 25):\n",
        "  additional = 2 * round(math.sqrt(admoney)) #instead of adcost **0.5\n",
        "  profit = (20 + additional) * 10 - 200 - admoney\n",
        "  print(admoney, '\\t', profit)"
      ],
      "metadata": {
        "colab": {
          "base_uri": "https://localhost:8080/"
        },
        "id": "HAR8D0oeN6Do",
        "outputId": "9b8d0cd3-8224-4d47-fe8f-d683841b2391"
      },
      "execution_count": 2,
      "outputs": [
        {
          "output_type": "stream",
          "name": "stdout",
          "text": [
            "ad$\t profit\n",
            "0 \t 0\n",
            "25 \t 75\n",
            "50 \t 90\n",
            "75 \t 105\n",
            "100 \t 100\n",
            "125 \t 95\n",
            "150 \t 90\n",
            "175 \t 85\n",
            "200 \t 80\n"
          ]
        }
      ]
    },
    {
      "cell_type": "code",
      "source": [
        "play = input(\"Do you want to play? (Yes/No)\").capitalize()\n",
        "\n",
        "\n",
        "while play == 'Yes':\n",
        "  Player1 = input(\"Player 1 - Choose between Rock, Paper, Scissors\")\n",
        "  Player2 = input(\"Player 2 - Choose between Rock, Paper, Scissors\")\n",
        "\n",
        "  if Player1 == Player2:\n",
        "    print(\"It's a tie!\")\n",
        "  elif Player1 == 'Rock' and Player2 == 'Scissors':\n",
        "    print(\"Player 1 wins!\")\n",
        "    play = input(\"Do you want to play again? (Yes/No)\")\n",
        "  elif Player1 == 'Paper' and Player2 == 'Rock':\n",
        "    print(\"Player 1 wins!\")\n",
        "    play = input(\"Do you want to play again? (Yes/No)\")\n",
        "  elif Player1 == 'Scissors' and Player2 == 'Paper':\n",
        "    print(\"Player 1 wins!\")\n",
        "    play = input(\"Do you want to play again? (Yes/No)\")\n",
        "  else:\n",
        "    print(\"Player 2 wins!\")\n",
        "\n",
        "  play = input(\"Do you want to play a new game? (Yes/No)\")\n",
        "\n",
        "print(\"Good day!\")"
      ],
      "metadata": {
        "id": "PujhvJNER9b8",
        "colab": {
          "base_uri": "https://localhost:8080/"
        },
        "outputId": "a64320eb-ecf9-4c3f-a460-af1ddd042a52"
      },
      "execution_count": 13,
      "outputs": [
        {
          "output_type": "stream",
          "name": "stdout",
          "text": [
            "Do you want to play? (Yes/No)yes\n",
            "Player 1 - Choose between Rock, Paper, Scissorsrock\n",
            "Player 2 - Choose between Rock, Paper, Scissorspaper\n",
            "Player 2 wins!\n",
            "Do you want to play a new game? (Yes/No)no\n",
            "Good day!\n"
          ]
        }
      ]
    },
    {
      "cell_type": "code",
      "source": [],
      "metadata": {
        "id": "3n8B0RHlCig0"
      },
      "execution_count": null,
      "outputs": []
    },
    {
      "cell_type": "code",
      "source": [
        "import random\n",
        "\n",
        "play = input(\"Do you want to play? (Yes/No)\")\n",
        "\n",
        "while play == 'Yes':\n",
        "  Player1 = input(\"Player 1 - Choose between rock / paper / scissors\").capitalize()\n",
        "  Player2 = random.choice(['rock', 'paper', 'scissors']).capitalize()\n",
        "\n",
        "print(f'\"Player 2 chose\", Player2)\n",
        "\n",
        "  if Player1 == Player2:\n",
        "    print(\"It's a tie!\")\n",
        "  elif ((Player1 == 'rock' and Player2 == 'scissors') or\n",
        "   (Player1 == 'paper' and Player2 == 'rock') or\n",
        "    (Player1 == 'scissors' and Player2 == 'paper')):\n",
        "    print(\"Player 1 wins!\")\n",
        "  else:\n",
        "    print(\"Player 2 wins!\")\n",
        "\n",
        "  play = input(\"Do you want to play a new game? (Yes/No)\")\n",
        "\n",
        "print(\"Good day!\")"
      ],
      "metadata": {
        "colab": {
          "base_uri": "https://localhost:8080/",
          "height": 108
        },
        "id": "fMG6S73fAl3z",
        "outputId": "14108dae-3901-4e6e-f022-3ee991cb3698"
      },
      "execution_count": 7,
      "outputs": [
        {
          "output_type": "error",
          "ename": "SyntaxError",
          "evalue": "unterminated string literal (detected at line 9) (<ipython-input-7-6bece852ae1f>, line 9)",
          "traceback": [
            "\u001b[0;36m  File \u001b[0;32m\"<ipython-input-7-6bece852ae1f>\"\u001b[0;36m, line \u001b[0;32m9\u001b[0m\n\u001b[0;31m    print(f'\"Player 2 chose\", Player2)\u001b[0m\n\u001b[0m          ^\u001b[0m\n\u001b[0;31mSyntaxError\u001b[0m\u001b[0;31m:\u001b[0m unterminated string literal (detected at line 9)\n"
          ]
        }
      ]
    }
  ]
}
{
  "nbformat": 4,
  "nbformat_minor": 0,
  "metadata": {
    "colab": {
      "provenance": [],
      "authorship_tag": "ABX9TyNLWsw5YoQkrJ4Vaq/5dvLR",
      "include_colab_link": true
    },
    "kernelspec": {
      "name": "python3",
      "display_name": "Python 3"
    },
    "language_info": {
      "name": "python"
    }
  },
  "cells": [
    {
      "cell_type": "markdown",
      "metadata": {
        "id": "view-in-github",
        "colab_type": "text"
      },
      "source": [
        "<a href=\"https://colab.research.google.com/github/kec210/BTE320/blob/main/In_Class_Assignments.ipynb\" target=\"_parent\"><img src=\"https://colab.research.google.com/assets/colab-badge.svg\" alt=\"Open In Colab\"/></a>"
      ]
    },
    {
      "cell_type": "code",
      "execution_count": null,
      "metadata": {
        "colab": {
          "base_uri": "https://localhost:8080/"
        },
        "id": "B2MSYo4MZ9vs",
        "outputId": "e9d64376-7685-4b54-a9d2-8842332d4b76"
      },
      "outputs": [
        {
          "output_type": "stream",
          "name": "stdout",
          "text": [
            "radius:2\n",
            "height:4\n",
            "area: 75.36 sq.ft\n"
          ]
        }
      ],
      "source": [
        "pi = 3.14\n",
        "radius = int(input(\"radius:\"))\n",
        "height = int(input(\"height:\"))\n",
        "\n",
        "area = (2 * pi * radius ** 2) + (2 * pi * radius * height)\n",
        "print(\"area:\",area, \"sq.ft\")\n"
      ]
    },
    {
      "cell_type": "code",
      "source": [
        "pi = 3.14\n",
        "radius = float(input('Please provide radius:'))\n",
        "height = float(input('Please provide height of cylinder:'))\n",
        "\n",
        "area = (2 * pi * radius ** 2) + (2 * pi * radius * height)\n",
        "print(f'Area of cylinder = {area} sq. ft')"
      ],
      "metadata": {
        "colab": {
          "base_uri": "https://localhost:8080/"
        },
        "id": "d86SbNh9cih_",
        "outputId": "2e053486-630c-4c7a-a6a6-b321664483ed"
      },
      "execution_count": null,
      "outputs": [
        {
          "output_type": "stream",
          "name": "stdout",
          "text": [
            "Please provide radius:5\n",
            "Please provide height of cylinder:10\n",
            "Area of cylinder = 471.0 sq. ft\n"
          ]
        }
      ]
    },
    {
      "cell_type": "code",
      "source": [
        "x = 2\n",
        "y = 3\n",
        "\n",
        "if x < 3:\n",
        "  print(\"x less than y\")"
      ],
      "metadata": {
        "colab": {
          "base_uri": "https://localhost:8080/"
        },
        "id": "WcXQYMKfetO_",
        "outputId": "a1d6573d-f601-4f5b-bb9f-34335e4da7d0"
      },
      "execution_count": null,
      "outputs": [
        {
          "output_type": "stream",
          "name": "stdout",
          "text": [
            "x less than y\n"
          ]
        }
      ]
    },
    {
      "cell_type": "code",
      "source": [
        "number1 = float (input('Please put 1st number:'))\n",
        "sign = input (\"Please provide Sign: \")\n",
        "number2 = float (input('Please put 2nd number:'))\n",
        "\n",
        "if sign == '+':\n",
        "  print(number1 + number2)\n",
        "elif sign == '-':\n",
        "  print(number1 - number2)\n",
        "elif sign == '*':\n",
        "  print(number1 * number2)\n",
        "elif sign == '/':\n",
        "  print(number1 / number2)\n",
        "elif sign == '//':\n",
        "  print(number1 // number2)\n",
        "elif sign == '**':\n",
        "  print(number1 ** number2)\n",
        "elif sign == '%':\n",
        "  print(number1 % number2)\n",
        "else:\n",
        "  print('Invalid Operator')"
      ],
      "metadata": {
        "colab": {
          "base_uri": "https://localhost:8080/"
        },
        "id": "Hq3IA5yIcEGu",
        "outputId": "82484f63-e584-4d49-ed41-ce4a73559a4a"
      },
      "execution_count": null,
      "outputs": [
        {
          "output_type": "stream",
          "name": "stdout",
          "text": [
            "Please put 1st number:9\n",
            "Please provide Sign: %\n",
            "Please put 2nd number:2\n",
            "1.0\n"
          ]
        }
      ]
    },
    {
      "cell_type": "code",
      "source": [
        "n1 = float(input('Please put 1st number:'))\n",
        "n2 = float(input('Please put 2nd number:'))\n",
        "s = input('Please provide Sign (+, -, *, /, //, **, %):')\n",
        "\n",
        "if s == '+':\n",
        "  print(f'{n1} + {n2} = {n1 + n2}')\n",
        "elif s == '-':\n",
        "  print(f'{n1} - {n2} = {n1 - n2}')\n",
        "elif s == '*':\n",
        "  print(f'{n1} * {n2} = {n1 * n2}')\n",
        "elif s == '/':\n",
        "  print(f'{n1} / {n2} = {n1 / n2}')\n",
        "elif s == '//':\n",
        "  print(f'{n1} // {n2} = {n1 // n2}')\n",
        "elif s == '**':\n",
        "  print(f'{n1} ** {n2} = {n1 ** n2}')\n",
        "elif s == '%':\n",
        "  print(f'{n1} % {n2} = {n1 % n2}')\n",
        "else:\n",
        "  print('Invalid Operator')"
      ],
      "metadata": {
        "colab": {
          "base_uri": "https://localhost:8080/"
        },
        "id": "JdBp3WXyegir",
        "outputId": "5ddd685b-bd97-45d7-8849-fb0553267beb"
      },
      "execution_count": null,
      "outputs": [
        {
          "output_type": "stream",
          "name": "stdout",
          "text": [
            "Please put 1st number:9\n",
            "Please put 2nd number:3\n",
            "Please provide Sign (+, -, *, /, //, **, %):+\n",
            "9.0 + 3.0 = 12.0\n"
          ]
        }
      ]
    },
    {
      "cell_type": "code",
      "source": [
        "for numberhours in range(1, 9):\n",
        "  fee = 5 + (2.5 * numberhours)\n",
        "  if fee < 10:\n",
        "    fee = 10.0\n",
        "  elif fee > 20:\n",
        "    fee = 20.0\n",
        "  print(numberhours, fee)"
      ],
      "metadata": {
        "colab": {
          "base_uri": "https://localhost:8080/"
        },
        "id": "AQKXU7RcJXnL",
        "outputId": "d39c5d78-348b-4454-8a55-5898a52165fd"
      },
      "execution_count": null,
      "outputs": [
        {
          "output_type": "stream",
          "name": "stdout",
          "text": [
            "1 10.0\n",
            "2 10.0\n",
            "3 12.5\n",
            "4 15.0\n",
            "5 17.5\n",
            "6 20.0\n",
            "7 20.0\n",
            "8 20.0\n"
          ]
        }
      ]
    },
    {
      "cell_type": "code",
      "source": [
        "import math\n",
        "\n",
        "print ('ad$\\t', 'profit')\n",
        "for admoney in range(0, 201, 25):\n",
        "  additional = 2 * round(math.sqrt(admoney)) #instead of adcost **0.5\n",
        "  profit = (20 + additional) * 10 - 200 - admoney\n",
        "  print(admoney, '\\t', profit)"
      ],
      "metadata": {
        "colab": {
          "base_uri": "https://localhost:8080/"
        },
        "id": "HAR8D0oeN6Do",
        "outputId": "9b8d0cd3-8224-4d47-fe8f-d683841b2391"
      },
      "execution_count": null,
      "outputs": [
        {
          "output_type": "stream",
          "name": "stdout",
          "text": [
            "ad$\t profit\n",
            "0 \t 0\n",
            "25 \t 75\n",
            "50 \t 90\n",
            "75 \t 105\n",
            "100 \t 100\n",
            "125 \t 95\n",
            "150 \t 90\n",
            "175 \t 85\n",
            "200 \t 80\n"
          ]
        }
      ]
    },
    {
      "cell_type": "code",
      "source": [
        "play = input(\"Do you want to play? (Yes/No)\").capitalize()\n",
        "\n",
        "\n",
        "while play == 'Yes':\n",
        "  Player1 = input(\"Player 1 - Choose between Rock, Paper, Scissors\")\n",
        "  Player2 = input(\"Player 2 - Choose between Rock, Paper, Scissors\")\n",
        "\n",
        "  if Player1 == Player2:\n",
        "    print(\"It's a tie!\")\n",
        "  elif Player1 == 'Rock' and Player2 == 'Scissors':\n",
        "    print(\"Player 1 wins!\")\n",
        "    play = input(\"Do you want to play again? (Yes/No)\")\n",
        "  elif Player1 == 'Paper' and Player2 == 'Rock':\n",
        "    print(\"Player 1 wins!\")\n",
        "    play = input(\"Do you want to play again? (Yes/No)\")\n",
        "  elif Player1 == 'Scissors' and Player2 == 'Paper':\n",
        "    print(\"Player 1 wins!\")\n",
        "    play = input(\"Do you want to play again? (Yes/No)\")\n",
        "  else:\n",
        "    print(\"Player 2 wins!\")\n",
        "\n",
        "  play = input(\"Do you want to play a new game? (Yes/No)\")\n",
        "\n",
        "print(\"Good day!\")"
      ],
      "metadata": {
        "id": "PujhvJNER9b8",
        "colab": {
          "base_uri": "https://localhost:8080/"
        },
        "outputId": "a64320eb-ecf9-4c3f-a460-af1ddd042a52"
      },
      "execution_count": null,
      "outputs": [
        {
          "output_type": "stream",
          "name": "stdout",
          "text": [
            "Do you want to play? (Yes/No)yes\n",
            "Player 1 - Choose between Rock, Paper, Scissorsrock\n",
            "Player 2 - Choose between Rock, Paper, Scissorspaper\n",
            "Player 2 wins!\n",
            "Do you want to play a new game? (Yes/No)no\n",
            "Good day!\n"
          ]
        }
      ]
    },
    {
      "cell_type": "code",
      "source": [],
      "metadata": {
        "id": "3n8B0RHlCig0"
      },
      "execution_count": null,
      "outputs": []
    },
    {
      "cell_type": "code",
      "source": [
        "months = {} # Best approach\n",
        "\n",
        "names = [\"Jan\", \"Feb\", \"Mar\", \"Apr\", \"May\", \"Jun\", \"Jul\", \"Aug\", \"Sep\", \"Oct\", \"Nov\", \"Dec\"]\n",
        "numbers = [1,2,3,4,5,6,7,8,9,10,11,12]\n",
        "\n",
        "for idx in range(len(numbers)):\n",
        "  months[numbers[idx]] = names[idx]\n",
        "months"
      ],
      "metadata": {
        "colab": {
          "base_uri": "https://localhost:8080/"
        },
        "id": "OH0xX4fZjOqa",
        "outputId": "7b428939-c283-491f-d411-8bfe37fd9dfa"
      },
      "execution_count": 11,
      "outputs": [
        {
          "output_type": "execute_result",
          "data": {
            "text/plain": [
              "{1: 'Jan',\n",
              " 2: 'Feb',\n",
              " 3: 'Mar',\n",
              " 4: 'Apr',\n",
              " 5: 'May',\n",
              " 6: 'Jun',\n",
              " 7: 'Jul',\n",
              " 8: 'Aug',\n",
              " 9: 'Sep',\n",
              " 10: 'Oct',\n",
              " 11: 'Nov',\n",
              " 12: 'Dec'}"
            ]
          },
          "metadata": {},
          "execution_count": 11
        }
      ]
    },
    {
      "cell_type": "code",
      "source": [
        "months = {}\n",
        "\n",
        "names = [\"Jan\", \"Feb\", \"Mar\", \"Apr\", \"May\", \"Jun\", \"Jul\", \"Aug\", \"Sep\", \"Oct\", \"Nov\", \"Dec\"]\n",
        "numbers = [1,2,3,4,5,6,7,8,9,10,11,12]\n",
        "\n",
        "cntr = 0\n",
        "for num in numbers:\n",
        "  months[num] = names[cntr]\n",
        "  cntr += 1\n",
        "months"
      ],
      "metadata": {
        "colab": {
          "base_uri": "https://localhost:8080/"
        },
        "id": "EG-abBHhmgnk",
        "outputId": "34b5a3e8-e011-4f52-e362-9ff5897ee6d5"
      },
      "execution_count": 12,
      "outputs": [
        {
          "output_type": "execute_result",
          "data": {
            "text/plain": [
              "{1: 'Jan',\n",
              " 2: 'Feb',\n",
              " 3: 'Mar',\n",
              " 4: 'Apr',\n",
              " 5: 'May',\n",
              " 6: 'Jun',\n",
              " 7: 'Jul',\n",
              " 8: 'Aug',\n",
              " 9: 'Sep',\n",
              " 10: 'Oct',\n",
              " 11: 'Nov',\n",
              " 12: 'Dec'}"
            ]
          },
          "metadata": {},
          "execution_count": 12
        }
      ]
    },
    {
      "cell_type": "code",
      "source": [
        "months = {}\n",
        "\n",
        "names = [\"Jan\", \"Feb\", \"Mar\", \"Apr\", \"May\", \"Jun\", \"Jul\", \"Aug\", \"Sep\", \"Oct\", \"Nov\", \"Dec\"]\n",
        "numbers = [1,2,3,4,5,6,7,8,9,10,11,12]\n",
        "\n",
        "for num in numbers:\n",
        "  months[num] = names[num - 1]\n",
        "months"
      ],
      "metadata": {
        "colab": {
          "base_uri": "https://localhost:8080/"
        },
        "id": "j9zrGNqlm9Th",
        "outputId": "6f217318-00ef-4552-95f9-4dac428ef5d7"
      },
      "execution_count": 13,
      "outputs": [
        {
          "output_type": "execute_result",
          "data": {
            "text/plain": [
              "{1: 'Jan',\n",
              " 2: 'Feb',\n",
              " 3: 'Mar',\n",
              " 4: 'Apr',\n",
              " 5: 'May',\n",
              " 6: 'Jun',\n",
              " 7: 'Jul',\n",
              " 8: 'Aug',\n",
              " 9: 'Sep',\n",
              " 10: 'Oct',\n",
              " 11: 'Nov',\n",
              " 12: 'Dec'}"
            ]
          },
          "metadata": {},
          "execution_count": 13
        }
      ]
    },
    {
      "cell_type": "code",
      "source": [
        "counts = {}\n",
        "\n",
        "while len(counts) < 5:\n",
        "  key = input('Give a string: ')\n",
        "\n",
        "  if key not in counts:\n",
        "    counts[key] = 1\n",
        "  else:\n",
        "    counts[key] = counts[key] + 1\n",
        "counts"
      ],
      "metadata": {
        "colab": {
          "base_uri": "https://localhost:8080/"
        },
        "id": "dFMbjXRYnjU2",
        "outputId": "a7fef79c-5c92-4556-9e49-3b4d931607e4"
      },
      "execution_count": 21,
      "outputs": [
        {
          "name": "stdout",
          "output_type": "stream",
          "text": [
            "Give a string: a\n",
            "Give a string: b\n",
            "Give a string: c\n",
            "Give a string: d\n",
            "Give a string: a\n",
            "Give a string: a\n",
            "Give a string: e\n"
          ]
        },
        {
          "output_type": "execute_result",
          "data": {
            "text/plain": [
              "{'a': 3, 'b': 1, 'c': 1, 'd': 1, 'e': 1}"
            ]
          },
          "metadata": {},
          "execution_count": 21
        }
      ]
    },
    {
      "cell_type": "code",
      "source": [
        "counts = {}\n",
        "\n",
        "while len(counts) < 5:\n",
        "  key = input('Give a string: ')\n",
        "\n",
        "  if key not in counts:\n",
        "    counts[key] = 1\n",
        "  else:\n",
        "    counts[key] += 1\n",
        "counts"
      ],
      "metadata": {
        "colab": {
          "base_uri": "https://localhost:8080/"
        },
        "id": "Xl_d-N9YsM-i",
        "outputId": "98dbbbe3-6b28-4a69-b3f8-3de24c51d3b9"
      },
      "execution_count": 20,
      "outputs": [
        {
          "name": "stdout",
          "output_type": "stream",
          "text": [
            "Give a string: a\n",
            "Give a string: b\n",
            "Give a string: c\n",
            "Give a string: d\n",
            "Give a string: e\n"
          ]
        },
        {
          "output_type": "execute_result",
          "data": {
            "text/plain": [
              "{'a': 1, 'b': 1, 'c': 1, 'd': 1, 'e': 1}"
            ]
          },
          "metadata": {},
          "execution_count": 20
        }
      ]
    }
  ]
}